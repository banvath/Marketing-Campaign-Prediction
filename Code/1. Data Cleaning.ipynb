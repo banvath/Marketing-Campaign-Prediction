{
 "cells": [
  {
   "cell_type": "code",
   "execution_count": 1,
   "metadata": {},
   "outputs": [
    {
     "name": "stdout",
     "output_type": "stream",
     "text": [
      "   age        job  marital    education  default housing loan    contact  \\\n",
      "0   56  housemaid  married     basic.4y       no      no   no  telephone   \n",
      "1   57   services  married  high.school  unknown      no   no  telephone   \n",
      "2   37   services  married  high.school       no     yes   no  telephone   \n",
      "3   40     admin.  married     basic.6y       no      no   no  telephone   \n",
      "4   56   services  married  high.school       no      no  yes  telephone   \n",
      "\n",
      "  month day_of_week  ...  campaign  pdays  previous     poutcome emp.var.rate  \\\n",
      "0   may         mon  ...         1    999         0  nonexistent          1.1   \n",
      "1   may         mon  ...         1    999         0  nonexistent          1.1   \n",
      "2   may         mon  ...         1    999         0  nonexistent          1.1   \n",
      "3   may         mon  ...         1    999         0  nonexistent          1.1   \n",
      "4   may         mon  ...         1    999         0  nonexistent          1.1   \n",
      "\n",
      "   cons.price.idx  cons.conf.idx  euribor3m  nr.employed   y  \n",
      "0          93.994          -36.4      4.857         5191  no  \n",
      "1          93.994          -36.4      4.857         5191  no  \n",
      "2          93.994          -36.4      4.857         5191  no  \n",
      "3          93.994          -36.4      4.857         5191  no  \n",
      "4          93.994          -36.4      4.857         5191  no  \n",
      "\n",
      "[5 rows x 21 columns]\n",
      "(41188, 21)\n",
      "<class 'pandas.core.frame.DataFrame'>\n",
      "RangeIndex: 41188 entries, 0 to 41187\n",
      "Data columns (total 21 columns):\n",
      "age               41188 non-null int64\n",
      "job               41188 non-null object\n",
      "marital           41188 non-null object\n",
      "education         41188 non-null object\n",
      "default           41188 non-null object\n",
      "housing           41188 non-null object\n",
      "loan              41188 non-null object\n",
      "contact           41188 non-null object\n",
      "month             41188 non-null object\n",
      "day_of_week       41188 non-null object\n",
      "duration          41188 non-null int64\n",
      "campaign          41188 non-null int64\n",
      "pdays             41188 non-null int64\n",
      "previous          41188 non-null int64\n",
      "poutcome          41188 non-null object\n",
      "emp.var.rate      41188 non-null float64\n",
      "cons.price.idx    41188 non-null float64\n",
      "cons.conf.idx     41188 non-null float64\n",
      "euribor3m         41188 non-null float64\n",
      "nr.employed       41188 non-null int64\n",
      "y                 41188 non-null object\n",
      "dtypes: float64(4), int64(6), object(11)\n",
      "memory usage: 6.6+ MB\n"
     ]
    }
   ],
   "source": [
    "################################ Set up #########################################\n",
    "from __future__ import division, print_function, unicode_literals\n",
    "%matplotlib inline\n",
    "import numpy as np\n",
    "import matplotlib.pyplot as plt\n",
    "from matplotlib.colors import ListedColormap\n",
    "\n",
    "############################# Import the data ##########################################\n",
    "import pandas as pd\n",
    "file = r'C:\\Users\\sguo0\\Downloads\\Bank Data.xlsx'\n",
    "df = pd.read_excel(file)\n",
    "print(df.head())\n",
    "print(df.shape)\n",
    "df.info()\n",
    "\n",
    "# convert the target variable\n",
    "df['y'] = df.y.map({'yes':1, 'no':0})"
   ]
  },
  {
   "cell_type": "code",
   "execution_count": 2,
   "metadata": {},
   "outputs": [
    {
     "data": {
      "image/png": "[encoded data removed]",
      "text/plain": [
       "<Figure size 432x288 with 1 Axes>"
      ]
     },
     "metadata": {
      "needs_background": "light"
     },
     "output_type": "display_data"
    },
    {
     "data": {
      "image/png": "[encoded data removed]",
      "text/plain": [
       "<Figure size 432x288 with 1 Axes>"
      ]
     },
     "metadata": {
      "needs_background": "light"
     },
     "output_type": "display_data"
    },
    {
     "data": {
      "image/png": "[encoded data removed]",
      "text/plain": [
       "<Figure size 432x288 with 1 Axes>"
      ]
     },
     "metadata": {
      "needs_background": "light"
     },
     "output_type": "display_data"
    },
    {
     "data": {
      "image/png": "[encoded data removed]",
      "text/plain": [
       "<Figure size 432x288 with 1 Axes>"
      ]
     },
     "metadata": {
      "needs_background": "light"
     },
     "output_type": "display_data"
    }
   ],
   "source": [
    "plt.hist(df.y)\n",
    "plt.show()\n",
    "\n",
    "df.groupby('y').duration.hist(alpha=0.7, bins=40, range=(0,1000))  # contact duration distribution\n",
    "plt.show()\n",
    "\n",
    "df.groupby('y').campaign.hist(alpha=0.7, bins=5, range=(0,10))  # number of contacts distribution\n",
    "plt.show()\n",
    "\n",
    "df.groupby('y').pdays.hist(alpha=0.7, range=(0,30))  # days since last contacted distribution\n",
    "plt.show()\n"
   ]
  },
  {
   "cell_type": "code",
   "execution_count": 3,
   "metadata": {},
   "outputs": [],
   "source": [
    "# covert pdays into 4 categorical values\n",
    "# last contacted from a previous campaign: <5 days, <10 days, >10 days, or never\n",
    "bins = [-np.inf, 4, 9, 28, np.inf]\n",
    "names = ['<5', '5to9', '>10', 'never']\n",
    "\n",
    "df['pdays'] = pd.cut(df['pdays'], bins, labels=names)"
   ]
  },
  {
   "cell_type": "code",
   "execution_count": 4,
   "metadata": {},
   "outputs": [],
   "source": [
    "# convert values \"unknown\" to NaN\n",
    "df.loc[df['job'] == 'unknown','job'] = np.nan\n",
    "df.loc[df['marital'] == 'unknown','marital'] = np.nan\n",
    "df.loc[df['education'] == 'unknown','education'] = np.nan\n",
    "df.loc[df['default'] == 'unknown','default'] = np.nan\n",
    "df.loc[df['housing'] == 'unknown','housing'] = np.nan\n",
    "df.loc[df['loan'] == 'unknown','loan'] = np.nan\n",
    "\n",
    "# export the csv file with no dummies\n",
    "#df.to_csv(r'C:\\Users\\sguo0\\Downloads\\data_wo_dummies.csv', index=False)"
   ]
  },
  {
   "cell_type": "code",
   "execution_count": 5,
   "metadata": {},
   "outputs": [],
   "source": [
    "# create dummmies for categorical variables\n",
    "\n",
    "# NaNs are dropped and indicated by all 0s in other levels\n",
    "df_dummy = pd.get_dummies(df, columns=['job','marital','education','default','housing','loan'])\n",
    "\n",
    "# First level is dropped and indicated by all 0s in other levels\n",
    "df_dummy = pd.get_dummies(df_dummy, columns=['contact','month','day_of_week','pdays','poutcome'], drop_first=True)\n",
    "\n",
    "# export the csv file with dummies\n",
    "#df_dummy.to_csv(r'C:\\Users\\sguo0\\Downloads\\data_w_dummies.csv', index=False)"
   ]
  },
  {
   "cell_type": "code",
   "execution_count": 77,
   "metadata": {},
   "outputs": [],
   "source": []
  },
  {
   "cell_type": "code",
   "execution_count": 78,
   "metadata": {},
   "outputs": [],
   "source": []
  }
 ],
 "metadata": {
  "kernelspec": {
   "display_name": "Python 3",
   "language": "python",
   "name": "python3"
  },
  "language_info": {
   "codemirror_mode": {
    "name": "ipython",
    "version": 3
   },
   "file_extension": ".py",
   "mimetype": "text/x-python",
   "name": "python",
   "nbconvert_exporter": "python",
   "pygments_lexer": "ipython3",
   "version": "3.7.6"
  },
  "toc": {
   "base_numbering": 1,
   "nav_menu": {},
   "number_sections": true,
   "sideBar": true,
   "skip_h1_title": false,
   "title_cell": "Table of Contents",
   "title_sidebar": "Contents",
   "toc_cell": false,
   "toc_position": {},
   "toc_section_display": true,
   "toc_window_display": false
  }
 },
 "nbformat": 4,
 "nbformat_minor": 2
}
