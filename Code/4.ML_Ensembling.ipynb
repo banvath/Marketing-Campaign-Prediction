{
 "cells": [
  {
   "cell_type": "markdown",
   "metadata": {},
   "source": [
    "# Set up "
   ]
  },
  {
   "cell_type": "code",
   "execution_count": 1,
   "metadata": {},
   "outputs": [],
   "source": [
    "import pandas as pd\n",
    "import numpy as np\n",
    "\n",
    "%matplotlib inline\n",
    "import matplotlib.pyplot as plt\n",
    "import pylab as pl\n",
    "from matplotlib.colors import ListedColormap\n",
    "import seaborn as sns\n",
    "import itertools\n",
    "from itertools import combinations\n",
    "\n",
    "import warnings\n",
    "\n",
    "from sklearn.metrics import accuracy_score \n",
    "from sklearn.metrics import classification_report \n",
    "from sklearn.metrics import confusion_matrix\n",
    "from sklearn.model_selection import GridSearchCV, KFold, cross_val_score \n",
    "from xgboost.sklearn import XGBClassifier\n",
    "from lightgbm.sklearn import LGBMClassifier\n",
    "from lightgbm.sklearn import LGBMRegressor\n",
    "from sklearn import neighbors, datasets\n",
    "from sklearn.preprocessing import StandardScaler\n",
    "from sklearn.model_selection import cross_val_score\n",
    "from sklearn.base import clone\n",
    "from sklearn.preprocessing import LabelEncoder\n",
    "from sklearn.model_selection import train_test_split\n",
    "from sklearn.model_selection import learning_curve \n",
    "from sklearn.model_selection import ShuffleSplit\n",
    "from sklearn import linear_model\n",
    "from sklearn.model_selection import validation_curve\n",
    "from sklearn.metrics import roc_curve\n",
    "from sklearn.metrics import auc\n",
    "from sklearn.metrics import mean_squared_error\n",
    "from sklearn import preprocessing\n",
    "\n",
    "import xgboost as xgb\n",
    "import lightgbm as lgb\n",
    "\n",
    "np.random.seed(42)"
   ]
  },
  {
   "cell_type": "markdown",
   "metadata": {},
   "source": [
    "# import data"
   ]
  },
  {
   "cell_type": "code",
   "execution_count": 2,
   "metadata": {},
   "outputs": [
    {
     "data": {
      "text/html": [
       "<div>\n",
       "<style scoped>\n",
       "    .dataframe tbody tr th:only-of-type {\n",
       "        vertical-align: middle;\n",
       "    }\n",
       "\n",
       "    .dataframe tbody tr th {\n",
       "        vertical-align: top;\n",
       "    }\n",
       "\n",
       "    .dataframe thead th {\n",
       "        text-align: right;\n",
       "    }\n",
       "</style>\n",
       "<table border=\"1\" class=\"dataframe\">\n",
       "  <thead>\n",
       "    <tr style=\"text-align: right;\">\n",
       "      <th></th>\n",
       "      <th>age</th>\n",
       "      <th>duration</th>\n",
       "      <th>campaign</th>\n",
       "      <th>previous</th>\n",
       "      <th>emp.var.rate</th>\n",
       "      <th>cons.price.idx</th>\n",
       "      <th>cons.conf.idx</th>\n",
       "      <th>euribor3m</th>\n",
       "      <th>nr.employed</th>\n",
       "      <th>y</th>\n",
       "      <th>...</th>\n",
       "      <th>month_sep</th>\n",
       "      <th>day_of_week_mon</th>\n",
       "      <th>day_of_week_thu</th>\n",
       "      <th>day_of_week_tue</th>\n",
       "      <th>day_of_week_wed</th>\n",
       "      <th>pdays_5to9</th>\n",
       "      <th>pdays_&gt;10</th>\n",
       "      <th>pdays_never</th>\n",
       "      <th>poutcome_nonexistent</th>\n",
       "      <th>poutcome_success</th>\n",
       "    </tr>\n",
       "  </thead>\n",
       "  <tbody>\n",
       "    <tr>\n",
       "      <th>0</th>\n",
       "      <td>56</td>\n",
       "      <td>261</td>\n",
       "      <td>1</td>\n",
       "      <td>0</td>\n",
       "      <td>1.1</td>\n",
       "      <td>93.994</td>\n",
       "      <td>-36.4</td>\n",
       "      <td>4.857</td>\n",
       "      <td>5191</td>\n",
       "      <td>0</td>\n",
       "      <td>...</td>\n",
       "      <td>0</td>\n",
       "      <td>1</td>\n",
       "      <td>0</td>\n",
       "      <td>0</td>\n",
       "      <td>0</td>\n",
       "      <td>0</td>\n",
       "      <td>0</td>\n",
       "      <td>1</td>\n",
       "      <td>1</td>\n",
       "      <td>0</td>\n",
       "    </tr>\n",
       "    <tr>\n",
       "      <th>1</th>\n",
       "      <td>57</td>\n",
       "      <td>149</td>\n",
       "      <td>1</td>\n",
       "      <td>0</td>\n",
       "      <td>1.1</td>\n",
       "      <td>93.994</td>\n",
       "      <td>-36.4</td>\n",
       "      <td>4.857</td>\n",
       "      <td>5191</td>\n",
       "      <td>0</td>\n",
       "      <td>...</td>\n",
       "      <td>0</td>\n",
       "      <td>1</td>\n",
       "      <td>0</td>\n",
       "      <td>0</td>\n",
       "      <td>0</td>\n",
       "      <td>0</td>\n",
       "      <td>0</td>\n",
       "      <td>1</td>\n",
       "      <td>1</td>\n",
       "      <td>0</td>\n",
       "    </tr>\n",
       "    <tr>\n",
       "      <th>2</th>\n",
       "      <td>37</td>\n",
       "      <td>226</td>\n",
       "      <td>1</td>\n",
       "      <td>0</td>\n",
       "      <td>1.1</td>\n",
       "      <td>93.994</td>\n",
       "      <td>-36.4</td>\n",
       "      <td>4.857</td>\n",
       "      <td>5191</td>\n",
       "      <td>0</td>\n",
       "      <td>...</td>\n",
       "      <td>0</td>\n",
       "      <td>1</td>\n",
       "      <td>0</td>\n",
       "      <td>0</td>\n",
       "      <td>0</td>\n",
       "      <td>0</td>\n",
       "      <td>0</td>\n",
       "      <td>1</td>\n",
       "      <td>1</td>\n",
       "      <td>0</td>\n",
       "    </tr>\n",
       "    <tr>\n",
       "      <th>3</th>\n",
       "      <td>40</td>\n",
       "      <td>151</td>\n",
       "      <td>1</td>\n",
       "      <td>0</td>\n",
       "      <td>1.1</td>\n",
       "      <td>93.994</td>\n",
       "      <td>-36.4</td>\n",
       "      <td>4.857</td>\n",
       "      <td>5191</td>\n",
       "      <td>0</td>\n",
       "      <td>...</td>\n",
       "      <td>0</td>\n",
       "      <td>1</td>\n",
       "      <td>0</td>\n",
       "      <td>0</td>\n",
       "      <td>0</td>\n",
       "      <td>0</td>\n",
       "      <td>0</td>\n",
       "      <td>1</td>\n",
       "      <td>1</td>\n",
       "      <td>0</td>\n",
       "    </tr>\n",
       "    <tr>\n",
       "      <th>4</th>\n",
       "      <td>56</td>\n",
       "      <td>307</td>\n",
       "      <td>1</td>\n",
       "      <td>0</td>\n",
       "      <td>1.1</td>\n",
       "      <td>93.994</td>\n",
       "      <td>-36.4</td>\n",
       "      <td>4.857</td>\n",
       "      <td>5191</td>\n",
       "      <td>0</td>\n",
       "      <td>...</td>\n",
       "      <td>0</td>\n",
       "      <td>1</td>\n",
       "      <td>0</td>\n",
       "      <td>0</td>\n",
       "      <td>0</td>\n",
       "      <td>0</td>\n",
       "      <td>0</td>\n",
       "      <td>1</td>\n",
       "      <td>1</td>\n",
       "      <td>0</td>\n",
       "    </tr>\n",
       "  </tbody>\n",
       "</table>\n",
       "<p>5 rows × 56 columns</p>\n",
       "</div>"
      ],
      "text/plain": [
       "   age  duration  campaign  previous  emp.var.rate  cons.price.idx  \\\n",
       "0   56       261         1         0           1.1          93.994   \n",
       "1   57       149         1         0           1.1          93.994   \n",
       "2   37       226         1         0           1.1          93.994   \n",
       "3   40       151         1         0           1.1          93.994   \n",
       "4   56       307         1         0           1.1          93.994   \n",
       "\n",
       "   cons.conf.idx  euribor3m  nr.employed  y  ...  month_sep  day_of_week_mon  \\\n",
       "0          -36.4      4.857         5191  0  ...          0                1   \n",
       "1          -36.4      4.857         5191  0  ...          0                1   \n",
       "2          -36.4      4.857         5191  0  ...          0                1   \n",
       "3          -36.4      4.857         5191  0  ...          0                1   \n",
       "4          -36.4      4.857         5191  0  ...          0                1   \n",
       "\n",
       "   day_of_week_thu  day_of_week_tue  day_of_week_wed  pdays_5to9  pdays_>10  \\\n",
       "0                0                0                0           0          0   \n",
       "1                0                0                0           0          0   \n",
       "2                0                0                0           0          0   \n",
       "3                0                0                0           0          0   \n",
       "4                0                0                0           0          0   \n",
       "\n",
       "   pdays_never  poutcome_nonexistent  poutcome_success  \n",
       "0            1                     1                 0  \n",
       "1            1                     1                 0  \n",
       "2            1                     1                 0  \n",
       "3            1                     1                 0  \n",
       "4            1                     1                 0  \n",
       "\n",
       "[5 rows x 56 columns]"
      ]
     },
     "execution_count": 2,
     "metadata": {},
     "output_type": "execute_result"
    }
   ],
   "source": [
    "df_dummy = pd.read_csv('C:/Users/14702/OneDrive/Desktop/Emory/Machine Learning II/Team Project/data_w_dummies.csv')\n",
    "\n",
    "df_dummy.head()"
   ]
  },
  {
   "cell_type": "code",
   "execution_count": 3,
   "metadata": {},
   "outputs": [],
   "source": [
    "# data resampling to make positive : negative as 2:8\n",
    "\n",
    "# get the distribution\n",
    "count_0,count_1 = df_dummy.y.value_counts()\n",
    "\n",
    "data_0 = df_dummy[df_dummy['y'] == 0]\n",
    "data_1 = df_dummy[df_dummy['y'] == 1]\n",
    "\n",
    "#Upsample data_1\n",
    "data_1 = data_1.sample(int(count_1*2) ,replace=True, random_state=42)\n",
    "\n",
    "# get the complete dataset\n",
    "df = pd.concat([data_0 ,data_1] ,axis=0)"
   ]
  },
  {
   "cell_type": "code",
   "execution_count": 4,
   "metadata": {},
   "outputs": [],
   "source": [
    "# retrieving Attributes\n",
    "y = df.values[:,9]\n",
    "X = df.drop(['y'],axis=1).values\n",
    "\n",
    "# Split train and test data\n",
    "X_train, X_test, y_train, y_test = train_test_split(X, y, test_size=0.20, random_state=42)"
   ]
  },
  {
   "cell_type": "code",
   "execution_count": 5,
   "metadata": {},
   "outputs": [],
   "source": [
    "# we want to use cross validation to tuning parameters\n",
    "inner_cv = KFold(n_splits=5, shuffle=True,random_state=42)\n",
    "outer_cv = KFold(n_splits=5, shuffle=True,random_state=42)"
   ]
  },
  {
   "cell_type": "code",
   "execution_count": 6,
   "metadata": {},
   "outputs": [],
   "source": [
    "# plot confusion matrix\n",
    "def plot_confusion_matrix(cm, classes,\n",
    "                          normalize=False,\n",
    "                          title='Confusion matrix',\n",
    "                          cmap=plt.cm.Blues):\n",
    "    \"\"\"\n",
    "    This function prints and plots the confusion matrix.\n",
    "    Normalization can be applied by setting `normalize=True`.\n",
    "    \"\"\"\n",
    "    if normalize:\n",
    "        cm = cm.astype('float') / cm.sum(axis=1)[:, np.newaxis]\n",
    "        print(\"Normalized confusion matrix\")\n",
    "    else:\n",
    "        print('Confusion matrix, without normalization')\n",
    "\n",
    "    print(cm)\n",
    "\n",
    "    plt.imshow(cm, interpolation='nearest', cmap=cmap)\n",
    "    plt.title(title)\n",
    "    plt.colorbar()\n",
    "    tick_marks = np.arange(len(classes))\n",
    "    plt.xticks(tick_marks, classes, rotation=45)\n",
    "    plt.yticks(tick_marks, classes)\n",
    "\n",
    "    fmt = '.2f' if normalize else 'd'\n",
    "    thresh = cm.max() / 2.\n",
    "    for i, j in itertools.product(range(cm.shape[0]), range(cm.shape[1])):\n",
    "        plt.text(j, i, format(cm[i, j], fmt),\n",
    "                 horizontalalignment=\"center\",\n",
    "                 color=\"white\" if cm[i, j] > thresh else \"black\")\n",
    "\n",
    "    plt.tight_layout()\n",
    "    plt.ylabel('True label')\n",
    "    plt.xlabel('Predicted label')\n",
    "    \n",
    "# Function to calculate accuracy and plot confusion matrix \n",
    "def cal_accuracy(y_test, y_pred): \n",
    "      \n",
    "    print (\"Accuracy : \", \n",
    "    accuracy_score(y_test,y_pred)*100) \n",
    "      \n",
    "    print(\"Report : \", \n",
    "    classification_report(y_test, y_pred)) \n",
    "    \n",
    "    cnf_matrix = confusion_matrix(y_test, y_pred)\n",
    "    np.set_printoptions(precision=2)\n",
    "\n",
    "    cnf_matrix = confusion_matrix(y_test, y_pred)\n",
    "    \n",
    "    # Plot non-normalized confusion matrix\n",
    "    plt.figure()\n",
    "    plot_confusion_matrix(cnf_matrix,classes=[\"1\",\"0\"],\n",
    "                      title='Confusion matrix, without normalization')\n",
    "    \n",
    "    # Plot normalized confusion matrix\n",
    "    plt.figure()\n",
    "    plot_confusion_matrix(cnf_matrix, classes=[\"1\",\"0\"], normalize=True,\n",
    "                      title='Normalized confusion matrix')\n",
    "    \n",
    "    plt.show()"
   ]
  },
  {
   "cell_type": "markdown",
   "metadata": {},
   "source": [
    "# XGBoost"
   ]
  },
  {
   "cell_type": "code",
   "execution_count": 21,
   "metadata": {},
   "outputs": [
    {
     "name": "stdout",
     "output_type": "stream",
     "text": [
      "XGBoost Parameter Tuning\n",
      "Non-nested CV F1-score:  0.8508322374572527\n",
      "Optimal Parameter:  {'learning_rate': 0.45, 'max_depth': 10, 'min_child_weight': 1}\n",
      "Optimal Estimator:  XGBClassifier(base_score=0.5, booster='gbtree', colsample_bylevel=1,\n",
      "       colsample_bynode=1, colsample_bytree=1, gamma=0, learning_rate=0.45,\n",
      "       max_delta_step=0, max_depth=10, min_child_weight=1, missing=None,\n",
      "       n_estimators=100, n_jobs=1, nthread=None,\n",
      "       objective='binary:logistic', random_state=0, reg_alpha=0,\n",
      "       reg_lambda=1, scale_pos_weight=1, seed=42, silent=None, subsample=1,\n",
      "       verbosity=1)\n"
     ]
    }
   ],
   "source": [
    "########################################## XGBoost ##################################################\n",
    "\n",
    "# Parameter tuning\n",
    "\n",
    "param_test = {\n",
    " 'max_depth':[2,3,4,5,6,7,8,9,10],\n",
    " 'min_child_weight':[1,2,3,4,5,6,7,8,9,10],\n",
    " 'learning_rate':[i/20.0 for i in range(0,10)]\n",
    "}\n",
    "\n",
    "gs_xgb = GridSearchCV(\n",
    "    estimator = XGBClassifier(objective= 'binary:logistic',scale_pos_weight=1,seed=42), \n",
    "    param_grid = param_test, \n",
    "    scoring='f1',\n",
    "    cv=inner_cv,\n",
    "    n_jobs=-1)\n",
    "\n",
    "gs_xgb = gs_xgb.fit(X_train,y_train)  \n",
    "print(\"XGBoost Parameter Tuning\")\n",
    "print(\"Non-nested CV F1-score: \", gs_xgb.best_score_)\n",
    "print(\"Optimal Parameter: \", gs_xgb.best_params_)\n",
    "print(\"Optimal Estimator: \", gs_xgb.best_estimator_) "
   ]
  },
  {
   "cell_type": "code",
   "execution_count": 33,
   "metadata": {
    "scrolled": false
   },
   "outputs": [
    {
     "name": "stdout",
     "output_type": "stream",
     "text": [
      "Accuracy :  94.67597643464978\n",
      "Report :                precision    recall  f1-score   support\n",
      "\n",
      "         0.0       0.98      0.95      0.97      7342\n",
      "         1.0       0.83      0.93      0.87      1824\n",
      "\n",
      "   micro avg       0.95      0.95      0.95      9166\n",
      "   macro avg       0.90      0.94      0.92      9166\n",
      "weighted avg       0.95      0.95      0.95      9166\n",
      "\n",
      "Confusion matrix, without normalization\n",
      "[[6987  355]\n",
      " [ 133 1691]]\n",
      "Normalized confusion matrix\n",
      "[[0.95 0.05]\n",
      " [0.07 0.93]]\n"
     ]
    },
    {
     "data": {
      "image/png": "[encoded data removed]",
      "text/plain": [
       "<Figure size 432x288 with 2 Axes>"
      ]
     },
     "metadata": {
      "needs_background": "light"
     },
     "output_type": "display_data"
    },
    {
     "data": {
      "image/png": "[encoded data removed]",
      "text/plain": [
       "<Figure size 432x288 with 2 Axes>"
      ]
     },
     "metadata": {
      "needs_background": "light"
     },
     "output_type": "display_data"
    },
    {
     "name": "stdout",
     "output_type": "stream",
     "text": [
      "None\n"
     ]
    }
   ],
   "source": [
    "# XGBoost Classifier\n",
    "clf_xgb = XGBClassifier(learning_rate = 0.45, max_depth = 10, min_child_weight = 1,\n",
    "                        objective= 'binary:logistic',scale_pos_weight=1,seed=42)\n",
    "\n",
    "# Make predictions \n",
    "clf_xgb = clf_xgb.fit(X_train, y_train) \n",
    "y_pred = clf_xgb.predict(X_test) \n",
    "\n",
    "# calculate accuracy and plot confusion matrix\n",
    "print(cal_accuracy(y_test, y_pred))  "
   ]
  },
  {
   "cell_type": "markdown",
   "metadata": {},
   "source": [
    "# LightGBM"
   ]
  },
  {
   "cell_type": "code",
   "execution_count": 12,
   "metadata": {},
   "outputs": [
    {
     "name": "stdout",
     "output_type": "stream",
     "text": [
      "LightGBM Parameter Tuning\n",
      "Non-nested CV F1-score:  0.8530252081625661\n",
      "Optimal Parameter:  {'learning_rate': 0.45, 'max_depth': 11, 'num_leaves': 140}\n",
      "Optimal Estimator:  LGBMClassifier(boosting_type='gbdt', class_weight=None, colsample_bytree=1.0,\n",
      "        importance_type='split', learning_rate=0.45, max_depth=11,\n",
      "        min_child_samples=20, min_child_weight=0.001, min_split_gain=0.0,\n",
      "        n_estimators=100, n_jobs=-1, num_leaves=140, objective=None,\n",
      "        random_state=None, reg_alpha=0.0, reg_lambda=0.0,\n",
      "        scale_pos_weight=1, seed=42, silent=True, subsample=1.0,\n",
      "        subsample_for_bin=200000, subsample_freq=0)\n"
     ]
    }
   ],
   "source": [
    "########################################## LightGBM ##################################################\n",
    "\n",
    "# Parameter tuning\n",
    "\n",
    "param_test = {\n",
    " 'max_depth':[4,5,6,7,8,9,10,11,12,13],\n",
    "  'num_leaves':range(20, 170, 30),\n",
    " 'learning_rate':[i/20.0 for i in range(1,10)]\n",
    "}\n",
    "\n",
    "gs_lgb = GridSearchCV(\n",
    "    estimator = LGBMClassifier(scale_pos_weight=1,seed=42), \n",
    "    param_grid = param_test, \n",
    "    scoring='f1',\n",
    "    cv=inner_cv)\n",
    "\n",
    "gs_lgb = gs_lgb.fit(X_train,y_train)  \n",
    "print(\"LightGBM Parameter Tuning\")\n",
    "print(\"Non-nested CV F1-score: \", gs_lgb.best_score_)\n",
    "print(\"Optimal Parameter: \", gs_lgb.best_params_)\n",
    "print(\"Optimal Estimator: \", gs_lgb.best_estimator_) "
   ]
  },
  {
   "cell_type": "code",
   "execution_count": 7,
   "metadata": {
    "scrolled": false
   },
   "outputs": [
    {
     "name": "stdout",
     "output_type": "stream",
     "text": [
      "Accuracy :  94.41413921012438\n",
      "Report :                precision    recall  f1-score   support\n",
      "\n",
      "         0.0       0.98      0.95      0.96      7342\n",
      "         1.0       0.82      0.93      0.87      1824\n",
      "\n",
      "   micro avg       0.94      0.94      0.94      9166\n",
      "   macro avg       0.90      0.94      0.92      9166\n",
      "weighted avg       0.95      0.94      0.95      9166\n",
      "\n",
      "Confusion matrix, without normalization\n",
      "[[6962  380]\n",
      " [ 132 1692]]\n",
      "Normalized confusion matrix\n",
      "[[0.95 0.05]\n",
      " [0.07 0.93]]\n"
     ]
    },
    {
     "data": {
      "image/png": "[encoded data removed]",
      "text/plain": [
       "<Figure size 432x288 with 2 Axes>"
      ]
     },
     "metadata": {
      "needs_background": "light"
     },
     "output_type": "display_data"
    },
    {
     "data": {
      "image/png": "[encoded data removed]",
      "text/plain": [
       "<Figure size 432x288 with 2 Axes>"
      ]
     },
     "metadata": {
      "needs_background": "light"
     },
     "output_type": "display_data"
    },
    {
     "name": "stdout",
     "output_type": "stream",
     "text": [
      "None\n"
     ]
    }
   ],
   "source": [
    "# LightGBM Classifier\n",
    "clf_lgb = LGBMClassifier(learning_rate = 0.45, max_depth = 11, num_leaves = 140,\n",
    "                        scale_pos_weight=1,seed=42)\n",
    "\n",
    "# Make predictions \n",
    "clf_lgb = clf_lgb.fit(X_train, y_train) \n",
    "y_pred = clf_lgb.predict(X_test) \n",
    "\n",
    "# calculate accuracy and plot confusion matrix\n",
    "print(cal_accuracy(y_test, y_pred))  "
   ]
  },
  {
   "cell_type": "code",
   "execution_count": 12,
   "metadata": {},
   "outputs": [
    {
     "name": "stdout",
     "output_type": "stream",
     "text": [
      " 1) duration                       2976.000000\n",
      " 2) age                            2366.000000\n",
      " 3) euribor3m                      1735.000000\n",
      " 4) campaign                       900.000000\n",
      " 5) cons.conf.idx                  428.000000\n",
      " 6) cons.price.idx                 416.000000\n",
      " 7) education_university.degree    265.000000\n",
      " 8) housing_no                     258.000000\n",
      " 9) job_admin.                     217.000000\n",
      "10) housing_yes                    217.000000\n",
      "11) day_of_week_thu                214.000000\n",
      "12) education_high.school          214.000000\n",
      "13) marital_married                209.000000\n",
      "14) day_of_week_tue                187.000000\n",
      "15) previous                       187.000000\n",
      "16) day_of_week_mon                181.000000\n",
      "17) day_of_week_wed                181.000000\n",
      "18) marital_single                 154.000000\n",
      "19) job_blue-collar                153.000000\n",
      "20) contact_telephone              142.000000\n",
      "21) emp.var.rate                   141.000000\n",
      "22) education_professional.course  133.000000\n",
      "23) job_technician                 127.000000\n",
      "24) loan_no                        118.000000\n",
      "25) default_no                     116.000000\n",
      "26) education_basic.9y             107.000000\n",
      "27) nr.employed                    104.000000\n",
      "28) loan_yes                       99.000000\n",
      "29) marital_divorced               93.000000\n",
      "30) month_may                      92.000000\n",
      "31) job_management                 92.000000\n",
      "32) education_basic.4y             88.000000\n",
      "33) job_services                   74.000000\n",
      "34) poutcome_nonexistent           71.000000\n",
      "35) job_self-employed              64.000000\n",
      "36) month_jun                      63.000000\n",
      "37) education_basic.6y             58.000000\n",
      "38) month_jul                      58.000000\n",
      "39) job_retired                    57.000000\n",
      "40) month_nov                      55.000000\n",
      "41) poutcome_success               49.000000\n",
      "42) job_entrepreneur               46.000000\n",
      "43) job_housemaid                  45.000000\n",
      "44) month_aug                      42.000000\n",
      "45) job_student                    34.000000\n",
      "46) pdays_never                    33.000000\n",
      "47) job_unemployed                 30.000000\n",
      "48) month_oct                      30.000000\n",
      "49) pdays_5to9                     30.000000\n",
      "50) month_sep                      18.000000\n",
      "51) pdays_>10                      17.000000\n",
      "52) month_mar                      16.000000\n",
      "53) education_illiterate           9.000000\n",
      "54) month_dec                      6.000000\n",
      "55) default_yes                    0.000000\n"
     ]
    }
   ],
   "source": [
    "# variable importance\n",
    "feat_labels = df.drop(['y'],axis=1).columns\n",
    "importances = clf_lgb.feature_importances_\n",
    "indices = np.argsort(importances)[::-1]\n",
    "for f in range(X_train.shape[1]):\n",
    "    print(\"%2d) %-*s %f\" % (f + 1, 30, feat_labels[indices[f]], importances[indices[f]]))"
   ]
  },
  {
   "cell_type": "code",
   "execution_count": 17,
   "metadata": {},
   "outputs": [
    {
     "name": "stdout",
     "output_type": "stream",
     "text": [
      "LGBM Regressor Parameter Tuning\n",
      "Non-nested CV F1-score:  -0.05306739796298465\n",
      "Optimal Parameter:  {'learning_rate': 0.25, 'max_depth': 13, 'num_leaves': 140}\n",
      "Optimal Estimator:  LGBMRegressor(boosting_type='gbdt', class_weight=None, colsample_bytree=1.0,\n",
      "       importance_type='split', learning_rate=0.25, max_depth=13,\n",
      "       metric='rmse', min_child_samples=20, min_child_weight=0.001,\n",
      "       min_split_gain=0.0, n_estimators=100, n_jobs=-1, num_leaves=140,\n",
      "       objective='regression', random_state=None, reg_alpha=0.0,\n",
      "       reg_lambda=0.0, scale_pos_weight=1, seed=42, silent=True,\n",
      "       subsample=1.0, subsample_for_bin=200000, subsample_freq=0)\n"
     ]
    }
   ],
   "source": [
    "# Parameter tuning LGBMRegressor\n",
    "\n",
    "param_test = {\n",
    " 'max_depth':[4,5,6,7,8,9,10,11,12,13],\n",
    "  'num_leaves':range(20, 170, 30),\n",
    " 'learning_rate':[i/20.0 for i in range(1,10)]\n",
    "}\n",
    "\n",
    "gs_lgbr = GridSearchCV(\n",
    "    estimator = lgb.LGBMRegressor(objective='regression',metric='rmse', scale_pos_weight=1,seed=42), \n",
    "    param_grid = param_test, \n",
    "    scoring='neg_mean_squared_error',\n",
    "    cv=inner_cv)\n",
    "\n",
    "gs_lgbr = gs_lgbr.fit(X_train,y_train)  \n",
    "print(\"LGBM Regressor Parameter Tuning\")\n",
    "print(\"Non-nested CV Negetive MSE: \", gs_lgbr.best_score_)\n",
    "print(\"Optimal Parameter: \", gs_lgbr.best_params_)\n",
    "print(\"Optimal Estimator: \", gs_lgbr.best_estimator_) \n"
   ]
  },
  {
   "cell_type": "code",
   "execution_count": 19,
   "metadata": {},
   "outputs": [],
   "source": [
    "lgbr = lgb.LGBMRegressor(objective='regression',metric='rmse',learning_rate = 0.25, max_depth = 13, num_leaves = 140,\n",
    "                        scale_pos_weight=1,seed=42)\n",
    "\n",
    "lgbr = lgbr.fit(X_train,y_train)\n",
    "y_pred = lgbr.predict(X_test) "
   ]
  },
  {
   "cell_type": "code",
   "execution_count": 25,
   "metadata": {},
   "outputs": [
    {
     "name": "stdout",
     "output_type": "stream",
     "text": [
      "\"LGBM Regressor RMSE:  0.222\n"
     ]
    }
   ],
   "source": [
    "print('LGBM Regressor RMSE: ',round(np.sqrt(mean_squared_error(y_test, y_pred)),3))"
   ]
  },
  {
   "cell_type": "markdown",
   "metadata": {},
   "source": [
    "# ROC AUC"
   ]
  },
  {
   "cell_type": "code",
   "execution_count": 38,
   "metadata": {},
   "outputs": [
    {
     "data": {
      "image/png": "[encoded data removed]",
      "text/plain": [
       "<Figure size 432x288 with 1 Axes>"
      ]
     },
     "metadata": {
      "needs_background": "light"
     },
     "output_type": "display_data"
    }
   ],
   "source": [
    "# Decision Tree Classifier\n",
    "clf_dt = DecisionTreeClassifier(random_state=42)\n",
    "\n",
    "# XGBoost Classifier\n",
    "clf_xgb = XGBClassifier(learning_rate = 0.45, max_depth = 10, min_child_weight = 1,\n",
    "                        objective= 'binary:logistic',scale_pos_weight=1,seed=42)\n",
    "# LightGBM Classifier\n",
    "clf_lgb = LGBMClassifier(learning_rate = 0.45, max_depth = 11, num_leaves = 140,\n",
    "                        scale_pos_weight=1,seed=42)\n",
    "\n",
    "# Label the classifiers\n",
    "clf_labels = ['Decision Tree', 'XGBoost', 'LightGBM']\n",
    "all_clf = [clf_dt, clf_xgb, clf_lgb]\n",
    "\n",
    "# visualization   \n",
    "colors = [ 'orange', 'blue', 'green']      # Colors for visualization\n",
    "linestyles = [':', '--', '-.', '-']        # Line styles for visualization\n",
    "for clf, label, clr, ls in zip(all_clf,\n",
    "               clf_labels, colors, linestyles):\n",
    "\n",
    "    # Assuming the label of the positive class is 1 and data is normalized\n",
    "    clf = clf.fit(X_train,y_train)\n",
    "    y_pred = clf.predict(X_test) \n",
    "    \n",
    "    fpr, tpr, thresholds = roc_curve(y_true=y_test, # Build ROC curve\n",
    "                                     y_score=y_pred)\n",
    "    roc_auc = auc(x=fpr, y=tpr)                # Compute Area Under the Curve (AUC) \n",
    "    plt.plot(fpr, tpr,                         # Plot ROC Curve and create label with AUC values\n",
    "             color=clr,\n",
    "             linestyle=ls,\n",
    "             label='%s (auc = %0.3f)' % (label, roc_auc))\n",
    "\n",
    "plt.legend(loc='lower right')    # Where to place the legend\n",
    "plt.plot([0, 1], [0, 1], # Visualize random classifier\n",
    "         linestyle='--',\n",
    "         color='gray',\n",
    "         linewidth=2)\n",
    "\n",
    "plt.xlim([-0.1, 1.1])   #limits for x axis\n",
    "plt.ylim([-0.1, 1.1])   #limits for y axis\n",
    "plt.grid(alpha=0.5)\n",
    "plt.xlabel('False positive rate (FPR)')\n",
    "plt.ylabel('True positive rate (TPR)')\n",
    "\n",
    "plt.show()"
   ]
  },
  {
   "cell_type": "code",
   "execution_count": null,
   "metadata": {},
   "outputs": [],
   "source": []
  }
 ],
 "metadata": {
  "kernelspec": {
   "display_name": "Python 3",
   "language": "python",
   "name": "python3"
  },
  "language_info": {
   "codemirror_mode": {
    "name": "ipython",
    "version": 3
   },
   "file_extension": ".py",
   "mimetype": "text/x-python",
   "name": "python",
   "nbconvert_exporter": "python",
   "pygments_lexer": "ipython3",
   "version": "3.7.6"
  }
 },
 "nbformat": 4,
 "nbformat_minor": 2
}
